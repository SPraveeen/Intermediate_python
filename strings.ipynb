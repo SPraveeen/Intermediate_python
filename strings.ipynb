{
 "cells": [
  {
   "cell_type": "markdown",
   "id": "19f191a2",
   "metadata": {},
   "source": [
    "- strings: ordered, immutable, text representation"
   ]
  },
  {
   "cell_type": "code",
   "execution_count": 1,
   "id": "a13560df",
   "metadata": {},
   "outputs": [
    {
     "ename": "SyntaxError",
     "evalue": "unterminated string literal (detected at line 1) (787153435.py, line 1)",
     "output_type": "error",
     "traceback": [
      "  \u001b[36mCell\u001b[39m\u001b[36m \u001b[39m\u001b[32mIn[1]\u001b[39m\u001b[32m, line 1\u001b[39m\n\u001b[31m    \u001b[39m\u001b[31mmy_string='i'm a programmer'\u001b[39m\n                               ^\n\u001b[31mSyntaxError\u001b[39m\u001b[31m:\u001b[39m unterminated string literal (detected at line 1)\n"
     ]
    }
   ],
   "source": [
    "my_string='i'm a programmer'\n",
    "print(my_string)\n"
   ]
  },
  {
   "cell_type": "code",
   "execution_count": 2,
   "id": "be58c875",
   "metadata": {},
   "outputs": [
    {
     "name": "stdout",
     "output_type": "stream",
     "text": [
      "i'm a programmer\n"
     ]
    }
   ],
   "source": [
    "my_string= 'i\\'m a programmer'\n",
    "print(my_string)"
   ]
  },
  {
   "cell_type": "code",
   "execution_count": 3,
   "id": "4bf22985",
   "metadata": {},
   "outputs": [
    {
     "name": "stdout",
     "output_type": "stream",
     "text": [
      "Hello world\n"
     ]
    }
   ],
   "source": [
    "my_string=\"\"\"Hello \\\n",
    "world\"\"\"\n",
    "print(my_string)"
   ]
  },
  {
   "cell_type": "code",
   "execution_count": 4,
   "id": "d571006a",
   "metadata": {},
   "outputs": [
    {
     "name": "stdout",
     "output_type": "stream",
     "text": [
      "H\n",
      "d\n"
     ]
    }
   ],
   "source": [
    "my_string=\"Hello world\"\n",
    "char=my_string[0]\n",
    "char1=my_string[-1]\n",
    "print(char)\n",
    "print(char1)"
   ]
  },
  {
   "cell_type": "code",
   "execution_count": 5,
   "id": "54f6853f",
   "metadata": {},
   "outputs": [
    {
     "ename": "TypeError",
     "evalue": "'str' object does not support item assignment",
     "output_type": "error",
     "traceback": [
      "\u001b[31m---------------------------------------------------------------------------\u001b[39m",
      "\u001b[31mTypeError\u001b[39m                                 Traceback (most recent call last)",
      "\u001b[36mCell\u001b[39m\u001b[36m \u001b[39m\u001b[32mIn[5]\u001b[39m\u001b[32m, line 1\u001b[39m\n\u001b[32m----> \u001b[39m\u001b[32m1\u001b[39m \u001b[43mmy_string\u001b[49m\u001b[43m[\u001b[49m\u001b[32;43m0\u001b[39;49m\u001b[43m]\u001b[49m=\u001b[33m'\u001b[39m\u001b[33mo\u001b[39m\u001b[33m'\u001b[39m\n\u001b[32m      2\u001b[39m \u001b[38;5;28mprint\u001b[39m(my_string)\n",
      "\u001b[31mTypeError\u001b[39m: 'str' object does not support item assignment"
     ]
    }
   ],
   "source": [
    "my_string[0]='o'\n",
    "print(my_string)"
   ]
  },
  {
   "cell_type": "code",
   "execution_count": 6,
   "id": "4e34650b",
   "metadata": {},
   "outputs": [
    {
     "data": {
      "text/plain": [
       "'ello'"
      ]
     },
     "execution_count": 6,
     "metadata": {},
     "output_type": "execute_result"
    }
   ],
   "source": [
    "my_string=\"Hello world\"\n",
    "my_string[1:5]"
   ]
  },
  {
   "cell_type": "code",
   "execution_count": 7,
   "id": "e039c96d",
   "metadata": {},
   "outputs": [
    {
     "data": {
      "text/plain": [
       "'Hello'"
      ]
     },
     "execution_count": 7,
     "metadata": {},
     "output_type": "execute_result"
    }
   ],
   "source": [
    "my_string[:5]"
   ]
  },
  {
   "cell_type": "code",
   "execution_count": 8,
   "id": "dc5d8fe6",
   "metadata": {},
   "outputs": [
    {
     "data": {
      "text/plain": [
       "'Hlowrd'"
      ]
     },
     "execution_count": 8,
     "metadata": {},
     "output_type": "execute_result"
    }
   ],
   "source": [
    "my_string[::2]"
   ]
  },
  {
   "cell_type": "code",
   "execution_count": 9,
   "id": "34cf4bb0",
   "metadata": {},
   "outputs": [
    {
     "data": {
      "text/plain": [
       "'dlrow olleH'"
      ]
     },
     "execution_count": 9,
     "metadata": {},
     "output_type": "execute_result"
    }
   ],
   "source": [
    "my_string[::-1]"
   ]
  },
  {
   "cell_type": "code",
   "execution_count": 10,
   "id": "e7613319",
   "metadata": {},
   "outputs": [
    {
     "name": "stdout",
     "output_type": "stream",
     "text": [
      "hello tom\n"
     ]
    }
   ],
   "source": [
    "a=\"hello\"\n",
    "b=\"tom\"\n",
    "c=a+\" \"+b\n",
    "print(c)"
   ]
  },
  {
   "cell_type": "code",
   "execution_count": 11,
   "id": "f126f529",
   "metadata": {},
   "outputs": [
    {
     "name": "stdout",
     "output_type": "stream",
     "text": [
      "t\n",
      "o\n",
      "m\n"
     ]
    }
   ],
   "source": [
    "for i in b:\n",
    "    print(i)"
   ]
  },
  {
   "cell_type": "code",
   "execution_count": 12,
   "id": "c2c0027f",
   "metadata": {},
   "outputs": [
    {
     "name": "stdout",
     "output_type": "stream",
     "text": [
      "no\n"
     ]
    }
   ],
   "source": [
    "if 'e' in b:\n",
    "    print(\"Yes\")\n",
    "else:\n",
    "    print(\"no\")"
   ]
  },
  {
   "cell_type": "code",
   "execution_count": 13,
   "id": "c293d0fc",
   "metadata": {},
   "outputs": [
    {
     "name": "stdout",
     "output_type": "stream",
     "text": [
      "hhhhhh\n"
     ]
    }
   ],
   "source": [
    "my_string='     hhhhhh    '\n",
    "my_string=my_string.strip()\n",
    "print(my_string)"
   ]
  },
  {
   "cell_type": "code",
   "execution_count": 16,
   "id": "2600c54f",
   "metadata": {},
   "outputs": [
    {
     "name": "stdout",
     "output_type": "stream",
     "text": [
      "HHHHHH\n"
     ]
    }
   ],
   "source": [
    "print(my_string.upper())"
   ]
  },
  {
   "cell_type": "code",
   "execution_count": 17,
   "id": "c3cc257a",
   "metadata": {},
   "outputs": [
    {
     "data": {
      "text/plain": [
       "True"
      ]
     },
     "execution_count": 17,
     "metadata": {},
     "output_type": "execute_result"
    }
   ],
   "source": [
    "a=\"hello world\"\n",
    "a.startswith('h')"
   ]
  },
  {
   "cell_type": "code",
   "execution_count": 19,
   "id": "bdbcc8bd",
   "metadata": {},
   "outputs": [
    {
     "data": {
      "text/plain": [
       "False"
      ]
     },
     "execution_count": 19,
     "metadata": {},
     "output_type": "execute_result"
    }
   ],
   "source": [
    "a.endswith('wld')"
   ]
  },
  {
   "cell_type": "code",
   "execution_count": 21,
   "id": "d326f093",
   "metadata": {},
   "outputs": [
    {
     "data": {
      "text/plain": [
       "3"
      ]
     },
     "execution_count": 21,
     "metadata": {},
     "output_type": "execute_result"
    }
   ],
   "source": [
    "a.find('lo')"
   ]
  },
  {
   "cell_type": "code",
   "execution_count": 23,
   "id": "471cc4b6",
   "metadata": {},
   "outputs": [
    {
     "data": {
      "text/plain": [
       "-1"
      ]
     },
     "execution_count": 23,
     "metadata": {},
     "output_type": "execute_result"
    }
   ],
   "source": [
    "a.find('pp')"
   ]
  },
  {
   "cell_type": "code",
   "execution_count": 24,
   "id": "c2e27084",
   "metadata": {},
   "outputs": [
    {
     "data": {
      "text/plain": [
       "2"
      ]
     },
     "execution_count": 24,
     "metadata": {},
     "output_type": "execute_result"
    }
   ],
   "source": [
    "a.count('o')"
   ]
  },
  {
   "cell_type": "code",
   "execution_count": 25,
   "id": "de1da07c",
   "metadata": {},
   "outputs": [
    {
     "data": {
      "text/plain": [
       "'hello universe'"
      ]
     },
     "execution_count": 25,
     "metadata": {},
     "output_type": "execute_result"
    }
   ],
   "source": [
    "a.replace('world','universe')"
   ]
  },
  {
   "cell_type": "code",
   "execution_count": 30,
   "id": "fdc5223f",
   "metadata": {},
   "outputs": [
    {
     "name": "stdout",
     "output_type": "stream",
     "text": [
      "['how', 'are', 'you', 'doing']\n"
     ]
    }
   ],
   "source": [
    "b='how are you doing'\n",
    "c=b.split()\n",
    "print(c)"
   ]
  },
  {
   "cell_type": "code",
   "execution_count": 31,
   "id": "b1f828a3",
   "metadata": {},
   "outputs": [
    {
     "name": "stdout",
     "output_type": "stream",
     "text": [
      "['how are you doing']\n"
     ]
    }
   ],
   "source": [
    "d='how,are,you,doing'\n",
    "e=b.split(\",\")\n",
    "print(e)"
   ]
  },
  {
   "cell_type": "code",
   "execution_count": 32,
   "id": "050d399b",
   "metadata": {},
   "outputs": [
    {
     "name": "stdout",
     "output_type": "stream",
     "text": [
      "how are you doing\n"
     ]
    }
   ],
   "source": [
    "f=' '.join(e)\n",
    "print(f)"
   ]
  },
  {
   "cell_type": "code",
   "execution_count": 33,
   "id": "c9316221",
   "metadata": {},
   "outputs": [
    {
     "name": "stdout",
     "output_type": "stream",
     "text": [
      "['a', 'a', 'a', 'a', 'a', 'a']\n"
     ]
    }
   ],
   "source": [
    "a=['a']*6\n",
    "print(a)"
   ]
  },
  {
   "cell_type": "markdown",
   "id": "a8ce9c1f",
   "metadata": {},
   "source": [
    "- bad join "
   ]
  },
  {
   "cell_type": "code",
   "execution_count": 38,
   "id": "796225b1",
   "metadata": {},
   "outputs": [
    {
     "name": "stdout",
     "output_type": "stream",
     "text": [
      " aaaaaa\n"
     ]
    }
   ],
   "source": [
    "b=' '\n",
    "for i in a:\n",
    "    b+=i\n",
    "print(b)"
   ]
  },
  {
   "cell_type": "markdown",
   "id": "ea9e5ff9",
   "metadata": {},
   "source": [
    "- good join"
   ]
  },
  {
   "cell_type": "code",
   "execution_count": null,
   "id": "22e3e01a",
   "metadata": {},
   "outputs": [
    {
     "name": "stdout",
     "output_type": "stream",
     "text": [
      "aaaaaa\n"
     ]
    }
   ],
   "source": [
    "b=''.join(a)\n",
    "print(b)"
   ]
  },
  {
   "cell_type": "code",
   "execution_count": 40,
   "id": "f5fb17e1",
   "metadata": {},
   "outputs": [],
   "source": [
    "from timeit import default_timer as timer"
   ]
  },
  {
   "cell_type": "code",
   "execution_count": 41,
   "id": "88567fd3",
   "metadata": {},
   "outputs": [
    {
     "name": "stdout",
     "output_type": "stream",
     "text": [
      "5.8800214901566505e-05\n"
     ]
    }
   ],
   "source": [
    "start=timer()\n",
    "b=' '\n",
    "for i in a:\n",
    "    b+=i\n",
    "stop=timer()\n",
    "print(stop-start)"
   ]
  },
  {
   "cell_type": "code",
   "execution_count": 42,
   "id": "3ffe8541",
   "metadata": {},
   "outputs": [
    {
     "name": "stdout",
     "output_type": "stream",
     "text": [
      "5.1099807024002075e-05\n"
     ]
    }
   ],
   "source": [
    "start=timer()\n",
    "b=''.join(a)\n",
    "stop=timer()\n",
    "print(stop-start)"
   ]
  },
  {
   "cell_type": "code",
   "execution_count": 44,
   "id": "4eb701e8",
   "metadata": {},
   "outputs": [
    {
     "name": "stdout",
     "output_type": "stream",
     "text": [
      "the variable is Tom\n"
     ]
    }
   ],
   "source": [
    "# %, .format(), f-strings\n",
    "var='Tom'\n",
    "v='the variable is %s' %var\n",
    "print(v)"
   ]
  },
  {
   "cell_type": "code",
   "execution_count": 45,
   "id": "395c4efb",
   "metadata": {},
   "outputs": [
    {
     "name": "stdout",
     "output_type": "stream",
     "text": [
      "the variable is 3.140000\n"
     ]
    }
   ],
   "source": [
    "# %, .format(), f-strings\n",
    "var=3.14\n",
    "v='the variable is %f' %var\n",
    "print(v)"
   ]
  },
  {
   "cell_type": "code",
   "execution_count": 46,
   "id": "34601f23",
   "metadata": {},
   "outputs": [
    {
     "name": "stdout",
     "output_type": "stream",
     "text": [
      "the variable is 3.14\n"
     ]
    }
   ],
   "source": [
    "# %, .format(), f-strings\n",
    "var=3.14\n",
    "v='the variable is {}'.format(var)\n",
    "print(v)"
   ]
  },
  {
   "cell_type": "code",
   "execution_count": 47,
   "id": "9f8f0004",
   "metadata": {},
   "outputs": [
    {
     "name": "stdout",
     "output_type": "stream",
     "text": [
      "hello john\n"
     ]
    }
   ],
   "source": [
    "b='hello'\n",
    "c=f'{b} john'\n",
    "print(c)"
   ]
  },
  {
   "cell_type": "code",
   "execution_count": null,
   "id": "47807620",
   "metadata": {},
   "outputs": [],
   "source": []
  }
 ],
 "metadata": {
  "kernelspec": {
   "display_name": "Python 3",
   "language": "python",
   "name": "python3"
  },
  "language_info": {
   "codemirror_mode": {
    "name": "ipython",
    "version": 3
   },
   "file_extension": ".py",
   "mimetype": "text/x-python",
   "name": "python",
   "nbconvert_exporter": "python",
   "pygments_lexer": "ipython3",
   "version": "3.13.3"
  }
 },
 "nbformat": 4,
 "nbformat_minor": 5
}
