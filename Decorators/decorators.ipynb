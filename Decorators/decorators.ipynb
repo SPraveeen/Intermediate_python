{
 "cells": [
  {
   "cell_type": "code",
   "execution_count": 1,
   "id": "87e70a7c",
   "metadata": {},
   "outputs": [
    {
     "name": "stdout",
     "output_type": "stream",
     "text": [
      "start\n",
      "alex\n",
      "end\n"
     ]
    }
   ],
   "source": [
    "def start_end_decorator(func):\n",
    "    def wrapper():\n",
    "        print('start')\n",
    "        func()\n",
    "        print('end')\n",
    "    return wrapper\n",
    "\n",
    "@start_end_decorator\n",
    "def printName():\n",
    "    print('alex')\n",
    "\n",
    "# printName()\n",
    "\n",
    "# instead of this put @ start_end_decorator in top of fucntion\n",
    "# printName=start_end_decorator(printName)\n",
    "\n",
    "\n",
    "printName()"
   ]
  },
  {
   "cell_type": "markdown",
   "id": "8ff058da",
   "metadata": {},
   "source": [
    "- arguments"
   ]
  },
  {
   "cell_type": "code",
   "execution_count": 3,
   "id": "dd8e905f",
   "metadata": {},
   "outputs": [
    {
     "name": "stdout",
     "output_type": "stream",
     "text": [
      "start\n",
      "end\n",
      "15\n"
     ]
    }
   ],
   "source": [
    "def start_end_decorator(func):\n",
    "    def wrapper(*args,**kwargs):\n",
    "        print(\"start\")\n",
    "        a=func(*args,**kwargs)\n",
    "        print(\"end\")\n",
    "        return a\n",
    "    return wrapper\n",
    "\n",
    "@start_end_decorator\n",
    "def add(x):\n",
    "    return x+5\n",
    "\n",
    "b=add(10)\n",
    "print(b)"
   ]
  },
  {
   "cell_type": "markdown",
   "id": "dd3bba7c",
   "metadata": {},
   "source": [
    "- function-identifier"
   ]
  },
  {
   "cell_type": "code",
   "execution_count": 2,
   "id": "2847f08d",
   "metadata": {},
   "outputs": [
    {
     "name": "stdout",
     "output_type": "stream",
     "text": [
      "Help on function add in module __main__:\n",
      "\n",
      "add(x)\n",
      "\n",
      "None\n",
      "add\n"
     ]
    }
   ],
   "source": [
    "import functools\n",
    "\n",
    "def start_end_decorator(func):\n",
    "\n",
    "    @functools.wraps(func)\n",
    "    def wrapper(*args,**kwargs):\n",
    "        print(\"start\")\n",
    "        a=func(*args,**kwargs)\n",
    "        print(\"end\")\n",
    "        return a\n",
    "    return wrapper\n",
    "\n",
    "@start_end_decorator\n",
    "def add(x):\n",
    "    return x+5\n",
    "\n",
    "print(help(add))\n",
    "print(add.__name__)"
   ]
  },
  {
   "cell_type": "markdown",
   "id": "e015cc52",
   "metadata": {},
   "source": [
    "- decorators with arguments"
   ]
  },
  {
   "cell_type": "code",
   "execution_count": 6,
   "id": "b2ba2245",
   "metadata": {},
   "outputs": [
    {
     "name": "stdout",
     "output_type": "stream",
     "text": [
      "Hello, Motlu\n",
      "Hello, Motlu\n",
      "Hello, Motlu\n"
     ]
    }
   ],
   "source": [
    "import functools\n",
    "\n",
    "def repeat(num_times):\n",
    "    def decorator_repeat(func):\n",
    "        @functools.wraps(func)\n",
    "        def wrapper(*args,**kwargs):\n",
    "            for _ in range(num_times):\n",
    "                result=func(*args,**kwargs)\n",
    "            return result\n",
    "        return wrapper\n",
    "    return decorator_repeat\n",
    "\n",
    "@repeat(num_times=3)\n",
    "def greet(name):\n",
    "    print(f'Hello, {name}')\n",
    "\n",
    "greet(\"Motlu\")"
   ]
  },
  {
   "cell_type": "markdown",
   "id": "e8a1f1de",
   "metadata": {},
   "source": [
    "- debug decorators\n",
    "- executes orderly"
   ]
  },
  {
   "cell_type": "code",
   "execution_count": 7,
   "id": "611eb3ec",
   "metadata": {},
   "outputs": [
    {
     "name": "stdout",
     "output_type": "stream",
     "text": [
      "calling wrapper('alex')\n"
     ]
    },
    {
     "ename": "NameError",
     "evalue": "name 'result' is not defined",
     "output_type": "error",
     "traceback": [
      "\u001b[31m---------------------------------------------------------------------------\u001b[39m",
      "\u001b[31mNameError\u001b[39m                                 Traceback (most recent call last)",
      "\u001b[36mCell\u001b[39m\u001b[36m \u001b[39m\u001b[32mIn[7]\u001b[39m\u001b[32m, line 30\u001b[39m\n\u001b[32m     27\u001b[39m     \u001b[38;5;28mprint\u001b[39m(greeting)\n\u001b[32m     28\u001b[39m     \u001b[38;5;28;01mreturn\u001b[39;00m greeting\n\u001b[32m---> \u001b[39m\u001b[32m30\u001b[39m \u001b[43msay_hello\u001b[49m\u001b[43m(\u001b[49m\u001b[33;43m\"\u001b[39;49m\u001b[33;43malex\u001b[39;49m\u001b[33;43m\"\u001b[39;49m\u001b[43m)\u001b[49m\n",
      "\u001b[36mCell\u001b[39m\u001b[36m \u001b[39m\u001b[32mIn[7]\u001b[39m\u001b[32m, line 18\u001b[39m, in \u001b[36mdebug.<locals>.wrapper\u001b[39m\u001b[34m(*args, **kwargs)\u001b[39m\n\u001b[32m     16\u001b[39m signature=\u001b[33m\"\u001b[39m\u001b[33m, \u001b[39m\u001b[33m\"\u001b[39m.join(args_repr + kwargs_repr)\n\u001b[32m     17\u001b[39m \u001b[38;5;28mprint\u001b[39m(\u001b[33mf\u001b[39m\u001b[33m'\u001b[39m\u001b[33mcalling \u001b[39m\u001b[38;5;132;01m{\u001b[39;00mfunc.\u001b[34m__name__\u001b[39m\u001b[38;5;132;01m}\u001b[39;00m\u001b[33m(\u001b[39m\u001b[38;5;132;01m{\u001b[39;00msignature\u001b[38;5;132;01m}\u001b[39;00m\u001b[33m)\u001b[39m\u001b[33m'\u001b[39m)\n\u001b[32m---> \u001b[39m\u001b[32m18\u001b[39m \u001b[38;5;28mprint\u001b[39m(\u001b[33mf\u001b[39m\u001b[33m'\u001b[39m\u001b[38;5;132;01m{\u001b[39;00mfunc.\u001b[34m__name__\u001b[39m\u001b[38;5;132;01m!r}\u001b[39;00m\u001b[33m returned \u001b[39m\u001b[38;5;132;01m{\u001b[39;00m\u001b[43mresult\u001b[49m\u001b[38;5;132;01m!r}\u001b[39;00m\u001b[33m'\u001b[39m)\n\u001b[32m     19\u001b[39m \u001b[38;5;28;01mreturn\u001b[39;00m result\n",
      "\u001b[31mNameError\u001b[39m: name 'result' is not defined"
     ]
    }
   ],
   "source": [
    "import functools\n",
    "def start_end_decorators(func):\n",
    "    @functools.wraps(func)\n",
    "    def wrapper(*args,**kwargs):\n",
    "        print('start')\n",
    "        result=func(*args,**kwargs)\n",
    "        print('end')\n",
    "        return result\n",
    "    return wrapper\n",
    "\n",
    "def debug(func):\n",
    "    @functools.wraps(func)\n",
    "    def wrapper(*args,**kwargs):\n",
    "        args_repr=[repr(a) for a in args]\n",
    "        kwargs_repr=[f'{k}={v!r}' for k,v in kwargs.items()]\n",
    "        signature=\", \".join(args_repr + kwargs_repr)\n",
    "        print(f'calling {func.__name__}({signature})')\n",
    "        print(f'{func.__name__!r} returned {result!r}')\n",
    "        return result\n",
    "    return wrapper\n",
    "\n",
    "\n",
    "@debug\n",
    "@start_end_decorator\n",
    "def say_hello(name):\n",
    "    greeting=f'hello, {name}'\n",
    "    print(greeting)\n",
    "    return greeting\n",
    "\n",
    "say_hello(\"alex\")"
   ]
  },
  {
   "cell_type": "code",
   "execution_count": null,
   "id": "5af80e4c",
   "metadata": {},
   "outputs": [],
   "source": []
  }
 ],
 "metadata": {
  "kernelspec": {
   "display_name": "Python 3",
   "language": "python",
   "name": "python3"
  },
  "language_info": {
   "codemirror_mode": {
    "name": "ipython",
    "version": 3
   },
   "file_extension": ".py",
   "mimetype": "text/x-python",
   "name": "python",
   "nbconvert_exporter": "python",
   "pygments_lexer": "ipython3",
   "version": "3.13.3"
  }
 },
 "nbformat": 4,
 "nbformat_minor": 5
}
