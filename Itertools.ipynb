{
 "cells": [
  {
   "cell_type": "markdown",
   "id": "257b512f",
   "metadata": {},
   "source": [
    "- itertools= products, permuatations, combinations, accumulate, groupby, infinite iterators"
   ]
  },
  {
   "cell_type": "code",
   "execution_count": 1,
   "id": "adeebdbd",
   "metadata": {},
   "outputs": [
    {
     "name": "stdout",
     "output_type": "stream",
     "text": [
      "[(1, 3), (1, 4), (2, 3), (2, 4)]\n"
     ]
    }
   ],
   "source": [
    "from itertools import product\n",
    "a=[1,2]\n",
    "b=[3,4]\n",
    "prod=product(a,b)\n",
    "print(list(prod))"
   ]
  },
  {
   "cell_type": "code",
   "execution_count": 2,
   "id": "d540d0cd",
   "metadata": {},
   "outputs": [
    {
     "name": "stdout",
     "output_type": "stream",
     "text": [
      "[(1, 3, 1, 3), (1, 3, 2, 3), (2, 3, 1, 3), (2, 3, 2, 3)]\n"
     ]
    }
   ],
   "source": [
    "from itertools import product\n",
    "a=[1,2]\n",
    "b=[3]\n",
    "prod=product(a,b,repeat=2)\n",
    "print(list(prod))"
   ]
  },
  {
   "cell_type": "code",
   "execution_count": 6,
   "id": "9d3f5411",
   "metadata": {},
   "outputs": [
    {
     "name": "stdout",
     "output_type": "stream",
     "text": [
      "[(1, 2, 3), (1, 3, 2), (2, 1, 3), (2, 3, 1), (3, 1, 2), (3, 2, 1)]\n",
      "[(1, 2), (1, 3), (2, 1), (2, 3), (3, 1), (3, 2)]\n"
     ]
    }
   ],
   "source": [
    "from itertools import permutations\n",
    "a=[1,2,3]\n",
    "perm=permutations(a)\n",
    "perm1=permutations(a,2)\n",
    "print(list(perm))\n",
    "print(list(perm1))"
   ]
  },
  {
   "cell_type": "code",
   "execution_count": 8,
   "id": "c4ae6641",
   "metadata": {},
   "outputs": [
    {
     "name": "stdout",
     "output_type": "stream",
     "text": [
      "[(1, 2), (1, 3), (1, 4), (2, 3), (2, 4), (3, 4)]\n"
     ]
    }
   ],
   "source": [
    "from itertools import combinations\n",
    "a=[1,2,3,4]\n",
    "comb=combinations(a,2)\n",
    "print(list(comb))"
   ]
  },
  {
   "cell_type": "code",
   "execution_count": 10,
   "id": "0b62986b",
   "metadata": {},
   "outputs": [
    {
     "name": "stdout",
     "output_type": "stream",
     "text": [
      "[(1, 2), (1, 3), (1, 4), (2, 3), (2, 4), (3, 4)]\n",
      "[(1, 1), (1, 2), (1, 3), (1, 4), (2, 2), (2, 3), (2, 4), (3, 3), (3, 4), (4, 4)]\n"
     ]
    }
   ],
   "source": [
    "from itertools import combinations,combinations_with_replacement\n",
    "a=[1,2,3,4]\n",
    "comb=combinations(a,2)\n",
    "print(list(comb))\n",
    "comb1=combinations_with_replacement(a,2)\n",
    "print(list(comb1))"
   ]
  },
  {
   "cell_type": "code",
   "execution_count": 11,
   "id": "02bd2a58",
   "metadata": {},
   "outputs": [
    {
     "name": "stdout",
     "output_type": "stream",
     "text": [
      "[1, 3, 6, 10]\n"
     ]
    }
   ],
   "source": [
    "from itertools import accumulate\n",
    "a=[1,2,3,4]\n",
    "acc=accumulate(a)\n",
    "print(list(acc))"
   ]
  },
  {
   "cell_type": "code",
   "execution_count": 15,
   "id": "c47b350b",
   "metadata": {},
   "outputs": [
    {
     "name": "stdout",
     "output_type": "stream",
     "text": [
      "[1, 2, 10, 30, 120]\n",
      "[1, 2, 5, 5, 5]\n"
     ]
    }
   ],
   "source": [
    "from itertools import accumulate\n",
    "import operator\n",
    "a=[1,2,5,3,4]\n",
    "acc=accumulate(a,func=operator.mul)\n",
    "acc1=accumulate(a,func=max)\n",
    "print(list(acc))\n",
    "print(list(acc1))"
   ]
  },
  {
   "cell_type": "code",
   "execution_count": 17,
   "id": "b7654282",
   "metadata": {},
   "outputs": [
    {
     "name": "stdout",
     "output_type": "stream",
     "text": [
      "<itertools.groupby object at 0x00000293BDE987C0>\n",
      "False [4]\n",
      "True [2]\n",
      "False [3]\n",
      "True [1]\n"
     ]
    }
   ],
   "source": [
    "from itertools import groupby\n",
    "\n",
    "def smaller_than_3(x):\n",
    "    return x<3\n",
    "\n",
    "a=[4,2,3,1]\n",
    "group_obj=groupby(a,key=smaller_than_3)\n",
    "print(group_obj)\n",
    "for key,val in group_obj:\n",
    "    print(key,list(val))"
   ]
  },
  {
   "cell_type": "markdown",
   "id": "efc35c9e",
   "metadata": {},
   "source": [
    "- by using lambda"
   ]
  },
  {
   "cell_type": "code",
   "execution_count": 20,
   "id": "421dfed5",
   "metadata": {},
   "outputs": [
    {
     "name": "stdout",
     "output_type": "stream",
     "text": [
      "25 [{'name': 'Tim', 'age': 25}, {'name': 'Dan', 'age': 25}]\n",
      "27 [{'name': 'Lisa', 'age': 27}]\n",
      "28 [{'name': 'clarie', 'age': 28}]\n"
     ]
    }
   ],
   "source": [
    "from itertools import groupby\n",
    "\n",
    "persons=[{'name':'Tim','age':25},{'name':'Dan','age':25},\n",
    "         {'name':'Lisa','age':27},{'name':'clarie','age':28}]\n",
    "\n",
    "grp=groupby(persons,key=lambda x:x['age'])\n",
    "for key,val in grp:\n",
    "    print(key,list(val))"
   ]
  },
  {
   "cell_type": "markdown",
   "id": "cd2607e4",
   "metadata": {},
   "source": [
    "- count goes infinte 10 10 till break\n",
    "- cycle 1,2,3 it will repeat \n",
    "- repeat repeats number "
   ]
  },
  {
   "cell_type": "code",
   "execution_count": 22,
   "id": "67080bfa",
   "metadata": {},
   "outputs": [
    {
     "name": "stdout",
     "output_type": "stream",
     "text": [
      "10\n",
      "11\n",
      "12\n",
      "13\n",
      "14\n",
      "15\n"
     ]
    }
   ],
   "source": [
    "from itertools import count,repeat,cycle\n",
    "for i in count(10):\n",
    "    print(i)\n",
    "    if i == 15:\n",
    "        break"
   ]
  },
  {
   "cell_type": "code",
   "execution_count": 24,
   "id": "38becf65",
   "metadata": {},
   "outputs": [
    {
     "name": "stdout",
     "output_type": "stream",
     "text": [
      "1\n",
      "1\n",
      "1\n",
      "1\n",
      "1\n",
      "1\n"
     ]
    }
   ],
   "source": [
    "for i in repeat(1,6):\n",
    "    print(i)"
   ]
  },
  {
   "cell_type": "code",
   "execution_count": null,
   "id": "14bbd2ae",
   "metadata": {},
   "outputs": [],
   "source": []
  }
 ],
 "metadata": {
  "kernelspec": {
   "display_name": "Python 3",
   "language": "python",
   "name": "python3"
  },
  "language_info": {
   "codemirror_mode": {
    "name": "ipython",
    "version": 3
   },
   "file_extension": ".py",
   "mimetype": "text/x-python",
   "name": "python",
   "nbconvert_exporter": "python",
   "pygments_lexer": "ipython3",
   "version": "3.13.3"
  }
 },
 "nbformat": 4,
 "nbformat_minor": 5
}
