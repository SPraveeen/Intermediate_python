{
 "cells": [
  {
   "cell_type": "markdown",
   "id": "00d4d36f",
   "metadata": {},
   "source": [
    "- Dictionary - key-valuepairs, unordered, Mutable"
   ]
  },
  {
   "cell_type": "code",
   "execution_count": 2,
   "id": "11002a38",
   "metadata": {},
   "outputs": [
    {
     "name": "stdout",
     "output_type": "stream",
     "text": [
      "{'name': 'Max', 'age': 27, 'city': 'NewYork'}\n"
     ]
    }
   ],
   "source": [
    "mydict={\"name\":\"Max\",\"age\":27,\"city\":\"NewYork\"}\n",
    "print(mydict)"
   ]
  },
  {
   "cell_type": "code",
   "execution_count": 1,
   "id": "26e5a3e4",
   "metadata": {},
   "outputs": [
    {
     "name": "stdout",
     "output_type": "stream",
     "text": [
      "{'name': 'amry', 'age': 27, 'city': 'Boston'}\n"
     ]
    }
   ],
   "source": [
    "mydict1=dict(name=\"amry\",age=27,city=\"Boston\")\n",
    "print(mydict1)"
   ]
  },
  {
   "cell_type": "code",
   "execution_count": 5,
   "id": "cbd8a856",
   "metadata": {},
   "outputs": [
    {
     "name": "stdout",
     "output_type": "stream",
     "text": [
      "Max\n",
      "27\n"
     ]
    }
   ],
   "source": [
    "print(mydict[\"name\"])\n",
    "print(mydict[\"age\"])"
   ]
  },
  {
   "cell_type": "code",
   "execution_count": 6,
   "id": "06374537",
   "metadata": {},
   "outputs": [
    {
     "name": "stdout",
     "output_type": "stream",
     "text": [
      "{'name': 'Max', 'age': 27, 'city': 'NewYork', 'email': 'max@xyz.com'}\n"
     ]
    }
   ],
   "source": [
    "mydict[\"email\"]=\"max@xyz.com\"\n",
    "print(mydict)"
   ]
  },
  {
   "cell_type": "code",
   "execution_count": 7,
   "id": "180fdfe1",
   "metadata": {},
   "outputs": [
    {
     "name": "stdout",
     "output_type": "stream",
     "text": [
      "{'name': 'Max', 'age': 27, 'city': 'NewYork', 'email': 'coolmax@xyz.com'}\n"
     ]
    }
   ],
   "source": [
    "mydict[\"email\"]=\"coolmax@xyz.com\"\n",
    "print(mydict)"
   ]
  },
  {
   "cell_type": "markdown",
   "id": "4d0cd1ec",
   "metadata": {},
   "source": [
    "- delete"
   ]
  },
  {
   "cell_type": "code",
   "execution_count": 8,
   "id": "a0237c17",
   "metadata": {},
   "outputs": [
    {
     "name": "stdout",
     "output_type": "stream",
     "text": [
      "{'age': 27, 'city': 'NewYork', 'email': 'coolmax@xyz.com'}\n"
     ]
    }
   ],
   "source": [
    "del mydict[\"name\"]\n",
    "print(mydict)"
   ]
  },
  {
   "cell_type": "code",
   "execution_count": 13,
   "id": "76cb0dd1",
   "metadata": {},
   "outputs": [
    {
     "ename": "KeyError",
     "evalue": "'age'",
     "output_type": "error",
     "traceback": [
      "\u001b[31m---------------------------------------------------------------------------\u001b[39m",
      "\u001b[31mKeyError\u001b[39m                                  Traceback (most recent call last)",
      "\u001b[36mCell\u001b[39m\u001b[36m \u001b[39m\u001b[32mIn[13]\u001b[39m\u001b[32m, line 1\u001b[39m\n\u001b[32m----> \u001b[39m\u001b[32m1\u001b[39m \u001b[43mmydict\u001b[49m\u001b[43m.\u001b[49m\u001b[43mpop\u001b[49m\u001b[43m(\u001b[49m\u001b[33;43m\"\u001b[39;49m\u001b[33;43mage\u001b[39;49m\u001b[33;43m\"\u001b[39;49m\u001b[43m)\u001b[49m\n",
      "\u001b[31mKeyError\u001b[39m: 'age'"
     ]
    }
   ],
   "source": [
    "mydict.pop(\"age\")"
   ]
  },
  {
   "cell_type": "code",
   "execution_count": 12,
   "id": "bb1affa1",
   "metadata": {},
   "outputs": [
    {
     "name": "stdout",
     "output_type": "stream",
     "text": [
      "{'city': 'NewYork', 'email': 'coolmax@xyz.com'}\n"
     ]
    }
   ],
   "source": [
    "print(mydict)"
   ]
  },
  {
   "cell_type": "code",
   "execution_count": 14,
   "id": "81b654d8",
   "metadata": {},
   "outputs": [
    {
     "name": "stdout",
     "output_type": "stream",
     "text": [
      "{'city': 'NewYork'}\n"
     ]
    }
   ],
   "source": [
    "mydict.popitem()\n",
    "print(mydict)"
   ]
  },
  {
   "cell_type": "code",
   "execution_count": 15,
   "id": "bd037958",
   "metadata": {},
   "outputs": [
    {
     "name": "stdout",
     "output_type": "stream",
     "text": [
      "NewYork\n"
     ]
    }
   ],
   "source": [
    "if \"city\" in mydict:\n",
    "    print(mydict[\"city\"])"
   ]
  },
  {
   "cell_type": "code",
   "execution_count": 16,
   "id": "5dd376c6",
   "metadata": {},
   "outputs": [
    {
     "name": "stdout",
     "output_type": "stream",
     "text": [
      "Error\n"
     ]
    }
   ],
   "source": [
    "try:\n",
    "    print(mydict[\"name\"])\n",
    "except:\n",
    "    print(\"Error\")"
   ]
  },
  {
   "cell_type": "code",
   "execution_count": 17,
   "id": "505cd462",
   "metadata": {},
   "outputs": [],
   "source": [
    "mydict={\"name\":\"Max\",\"age\":27,\"city\":\"NewYork\"}"
   ]
  },
  {
   "cell_type": "code",
   "execution_count": 18,
   "id": "7179f6d6",
   "metadata": {},
   "outputs": [
    {
     "name": "stdout",
     "output_type": "stream",
     "text": [
      "name\n",
      "age\n",
      "city\n"
     ]
    }
   ],
   "source": [
    "for key in mydict:\n",
    "    print(key)"
   ]
  },
  {
   "cell_type": "code",
   "execution_count": 19,
   "id": "f731ddb5",
   "metadata": {},
   "outputs": [
    {
     "name": "stdout",
     "output_type": "stream",
     "text": [
      "name\n",
      "age\n",
      "city\n"
     ]
    }
   ],
   "source": [
    "for key in mydict.keys():\n",
    "    print(key)"
   ]
  },
  {
   "cell_type": "code",
   "execution_count": 20,
   "id": "e818f81d",
   "metadata": {},
   "outputs": [
    {
     "name": "stdout",
     "output_type": "stream",
     "text": [
      "Max\n",
      "27\n",
      "NewYork\n"
     ]
    }
   ],
   "source": [
    "for value in mydict.values():\n",
    "    print(value)"
   ]
  },
  {
   "cell_type": "code",
   "execution_count": 21,
   "id": "1238ebc7",
   "metadata": {},
   "outputs": [
    {
     "name": "stdout",
     "output_type": "stream",
     "text": [
      "name Max\n",
      "age 27\n",
      "city NewYork\n"
     ]
    }
   ],
   "source": [
    "for key,value in mydict.items():\n",
    "    print(key,value)"
   ]
  },
  {
   "cell_type": "markdown",
   "id": "3fef43a3",
   "metadata": {},
   "source": [
    "- copy be careful"
   ]
  },
  {
   "cell_type": "code",
   "execution_count": 22,
   "id": "ec9e0e37",
   "metadata": {},
   "outputs": [
    {
     "name": "stdout",
     "output_type": "stream",
     "text": [
      "{'name': 'Max', 'age': 27, 'city': 'NewYork'}\n"
     ]
    }
   ],
   "source": [
    "mydict_copy=mydict\n",
    "print(mydict_copy)"
   ]
  },
  {
   "cell_type": "code",
   "execution_count": 23,
   "id": "a1c80afe",
   "metadata": {},
   "outputs": [
    {
     "name": "stdout",
     "output_type": "stream",
     "text": [
      "{'name': 'Max', 'age': 27, 'city': 'NewYork', 'email': 'max@xyz.com'}\n",
      "{'name': 'Max', 'age': 27, 'city': 'NewYork', 'email': 'max@xyz.com'}\n"
     ]
    }
   ],
   "source": [
    "mydict_copy[\"email\"]=\"max@xyz.com\"\n",
    "print(mydict_copy)\n",
    "print(mydict)"
   ]
  },
  {
   "cell_type": "code",
   "execution_count": 24,
   "id": "d06de044",
   "metadata": {},
   "outputs": [],
   "source": [
    "mydict_copy=mydict.copy()"
   ]
  },
  {
   "cell_type": "code",
   "execution_count": 27,
   "id": "31107a4a",
   "metadata": {},
   "outputs": [
    {
     "name": "stdout",
     "output_type": "stream",
     "text": [
      "{'name': 'amry', 'age': 37, 'email': 'abc@xyz.com', 'city': 'Boston'}\n"
     ]
    }
   ],
   "source": [
    "mydict={\"name\":\"Max\",\"age\":27,\"email\":\"abc@xyz.com\"}\n",
    "mydict1=dict(name=\"amry\",age=37,city=\"Boston\")\n",
    "\n",
    "mydict.update(mydict1)\n",
    "print(mydict)"
   ]
  },
  {
   "cell_type": "code",
   "execution_count": 31,
   "id": "6b97f39e",
   "metadata": {},
   "outputs": [
    {
     "name": "stdout",
     "output_type": "stream",
     "text": [
      "{3: 9, 6: 36, 9: 81}\n",
      "9\n"
     ]
    }
   ],
   "source": [
    "mydict={3:9,6:36,9:81}\n",
    "print(mydict)\n",
    "\n",
    "value=mydict[3]\n",
    "print(value)"
   ]
  },
  {
   "cell_type": "code",
   "execution_count": 32,
   "id": "cbeeb836",
   "metadata": {},
   "outputs": [
    {
     "name": "stdout",
     "output_type": "stream",
     "text": [
      "{(8, 7): 15}\n"
     ]
    }
   ],
   "source": [
    "mytuple=(8,7)\n",
    "mydict={mytuple:15}\n",
    "\n",
    "print(mydict)"
   ]
  },
  {
   "cell_type": "code",
   "execution_count": 33,
   "id": "1621d36f",
   "metadata": {},
   "outputs": [
    {
     "ename": "TypeError",
     "evalue": "unhashable type: 'list'",
     "output_type": "error",
     "traceback": [
      "\u001b[31m---------------------------------------------------------------------------\u001b[39m",
      "\u001b[31mTypeError\u001b[39m                                 Traceback (most recent call last)",
      "\u001b[36mCell\u001b[39m\u001b[36m \u001b[39m\u001b[32mIn[33]\u001b[39m\u001b[32m, line 2\u001b[39m\n\u001b[32m      1\u001b[39m mytuple=[\u001b[32m8\u001b[39m,\u001b[32m7\u001b[39m]\n\u001b[32m----> \u001b[39m\u001b[32m2\u001b[39m mydict={mytuple:\u001b[32m15\u001b[39m}\n\u001b[32m      4\u001b[39m \u001b[38;5;28mprint\u001b[39m(mydict)\n",
      "\u001b[31mTypeError\u001b[39m: unhashable type: 'list'"
     ]
    }
   ],
   "source": [
    "mytuple=[8,7]\n",
    "mydict={mytuple:15}\n",
    "\n",
    "print(mydict)"
   ]
  },
  {
   "cell_type": "code",
   "execution_count": null,
   "id": "b66d459c",
   "metadata": {},
   "outputs": [],
   "source": []
  }
 ],
 "metadata": {
  "kernelspec": {
   "display_name": "Python 3",
   "language": "python",
   "name": "python3"
  },
  "language_info": {
   "codemirror_mode": {
    "name": "ipython",
    "version": 3
   },
   "file_extension": ".py",
   "mimetype": "text/x-python",
   "name": "python",
   "nbconvert_exporter": "python",
   "pygments_lexer": "ipython3",
   "version": "3.13.3"
  }
 },
 "nbformat": 4,
 "nbformat_minor": 5
}
