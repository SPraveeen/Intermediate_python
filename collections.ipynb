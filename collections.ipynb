{
 "cells": [
  {
   "cell_type": "markdown",
   "id": "f313869e",
   "metadata": {},
   "source": [
    "collections: counter, namedtuple, orderedDict, defaultdict, deque"
   ]
  },
  {
   "cell_type": "code",
   "execution_count": 1,
   "id": "d863bc84",
   "metadata": {},
   "outputs": [],
   "source": [
    "from collections import Counter"
   ]
  },
  {
   "cell_type": "code",
   "execution_count": 7,
   "id": "ad44d21b",
   "metadata": {},
   "outputs": [
    {
     "name": "stdout",
     "output_type": "stream",
     "text": [
      "Counter({'a': 3, 'b': 3, 'c': 3})\n"
     ]
    }
   ],
   "source": [
    "a='aaabbbccc'\n",
    "b=Counter(a)\n",
    "print(b)"
   ]
  },
  {
   "cell_type": "code",
   "execution_count": 14,
   "id": "6b57ad8b",
   "metadata": {},
   "outputs": [
    {
     "name": "stdout",
     "output_type": "stream",
     "text": [
      "dict_items([('a', 3), ('b', 3), ('c', 3)])\n",
      "dict_keys(['a', 'b', 'c'])\n",
      "dict_values([3, 3, 3])\n",
      "[('a', 3)]\n",
      "a\n",
      "['a', 'a', 'a', 'b', 'b', 'b', 'c', 'c', 'c']\n"
     ]
    }
   ],
   "source": [
    "print(b.items())\n",
    "print(b.keys())\n",
    "print(b.values())\n",
    "print(b.most_common(1))\n",
    "print(b.most_common(1)[0][0])\n",
    "print(list(b.elements()))"
   ]
  },
  {
   "cell_type": "code",
   "execution_count": 16,
   "id": "d9ccb811",
   "metadata": {},
   "outputs": [
    {
     "name": "stdout",
     "output_type": "stream",
     "text": [
      "point(x=1, y=-4)\n",
      "1 -4\n"
     ]
    }
   ],
   "source": [
    "from collections import namedtuple\n",
    "point=namedtuple('point','x,y')\n",
    "pt=point(1,-4)\n",
    "print(pt)\n",
    "print(pt.x,pt.y)"
   ]
  },
  {
   "cell_type": "code",
   "execution_count": 18,
   "id": "c9c652a4",
   "metadata": {},
   "outputs": [
    {
     "name": "stdout",
     "output_type": "stream",
     "text": [
      "a(x=1, y=2)\n",
      "1 2\n"
     ]
    }
   ],
   "source": [
    "from collections import namedtuple\n",
    "a=namedtuple('a','x,y')\n",
    "b=a(1,2)\n",
    "print(b)\n",
    "print(b.x,b.y)"
   ]
  },
  {
   "cell_type": "code",
   "execution_count": null,
   "id": "e78190b7",
   "metadata": {},
   "outputs": [
    {
     "name": "stdout",
     "output_type": "stream",
     "text": [
      "OrderedDict({'b': 2, 'c': 3, 'd': 4, 'a': 1})\n"
     ]
    }
   ],
   "source": [
    "from collections import OrderedDict\n",
    "ordered_dict=OrderedDict()\n",
    "\n",
    "ordered_dict['b']=2\n",
    "ordered_dict['c']=3\n",
    "ordered_dict['d']=4\n",
    "ordered_dict['a']=1\n",
    "\n",
    "print(ordered_dict)"
   ]
  },
  {
   "cell_type": "code",
   "execution_count": 22,
   "id": "dfa15a2a",
   "metadata": {},
   "outputs": [
    {
     "name": "stdout",
     "output_type": "stream",
     "text": [
      "defaultdict(<class 'int'>, {'a': 1, 'b': 2, 'c': 3})\n",
      "1\n",
      "0\n"
     ]
    }
   ],
   "source": [
    "from collections import defaultdict\n",
    "v=defaultdict(int)\n",
    "v['a']=1\n",
    "v['b']=2\n",
    "v['c']=3\n",
    "print(v)\n",
    "print(v['a'])\n",
    "print(v['s'])"
   ]
  },
  {
   "cell_type": "code",
   "execution_count": 29,
   "id": "28aca757",
   "metadata": {},
   "outputs": [
    {
     "name": "stdout",
     "output_type": "stream",
     "text": [
      "deque([5, 1, 2, 3])\n"
     ]
    }
   ],
   "source": [
    "from collections import deque\n",
    "d=deque()\n",
    "d.append(1)\n",
    "d.append(2)\n",
    "d.append(3)\n",
    "d.appendleft(5)\n",
    "print(d)"
   ]
  },
  {
   "cell_type": "code",
   "execution_count": 25,
   "id": "4769a205",
   "metadata": {},
   "outputs": [
    {
     "name": "stdout",
     "output_type": "stream",
     "text": [
      "deque([5, 1, 2])\n"
     ]
    }
   ],
   "source": [
    "d.pop()\n",
    "print(d)"
   ]
  },
  {
   "cell_type": "code",
   "execution_count": 26,
   "id": "332a63b7",
   "metadata": {},
   "outputs": [
    {
     "name": "stdout",
     "output_type": "stream",
     "text": [
      "deque([1, 2])\n"
     ]
    }
   ],
   "source": [
    "d.popleft()\n",
    "print(d)"
   ]
  },
  {
   "cell_type": "code",
   "execution_count": 27,
   "id": "d2567ea3",
   "metadata": {},
   "outputs": [
    {
     "name": "stdout",
     "output_type": "stream",
     "text": [
      "deque([])\n"
     ]
    }
   ],
   "source": [
    "d.clear()\n",
    "print(d)"
   ]
  },
  {
   "cell_type": "code",
   "execution_count": 30,
   "id": "17cf2b75",
   "metadata": {},
   "outputs": [
    {
     "name": "stdout",
     "output_type": "stream",
     "text": [
      "deque([5, 1, 2, 3, 4, 5, 6])\n"
     ]
    }
   ],
   "source": [
    "d.extend([4,5,6])\n",
    "print(d)"
   ]
  },
  {
   "cell_type": "code",
   "execution_count": 31,
   "id": "29d3875f",
   "metadata": {},
   "outputs": [
    {
     "name": "stdout",
     "output_type": "stream",
     "text": [
      "deque([3, 5, 1, 2, 3, 4, 5, 6])\n"
     ]
    }
   ],
   "source": [
    "d.extendleft([3])\n",
    "print(d)"
   ]
  },
  {
   "cell_type": "code",
   "execution_count": 33,
   "id": "9c4bfce5",
   "metadata": {},
   "outputs": [
    {
     "name": "stdout",
     "output_type": "stream",
     "text": [
      "deque([5, 6, 3, 5, 1, 2, 3, 4])\n"
     ]
    }
   ],
   "source": [
    "d.rotate(1)\n",
    "print(d)"
   ]
  },
  {
   "cell_type": "code",
   "execution_count": 34,
   "id": "e189206d",
   "metadata": {},
   "outputs": [
    {
     "name": "stdout",
     "output_type": "stream",
     "text": [
      "deque([3, 4, 5, 6, 3, 5, 1, 2])\n"
     ]
    }
   ],
   "source": [
    "d.rotate(2)\n",
    "print(d)"
   ]
  },
  {
   "cell_type": "code",
   "execution_count": 35,
   "id": "d8af1d46",
   "metadata": {},
   "outputs": [
    {
     "name": "stdout",
     "output_type": "stream",
     "text": [
      "deque([4, 5, 6, 3, 5, 1, 2, 3])\n"
     ]
    }
   ],
   "source": [
    "d.rotate(-1)\n",
    "print(d)"
   ]
  },
  {
   "cell_type": "code",
   "execution_count": null,
   "id": "35596816",
   "metadata": {},
   "outputs": [],
   "source": []
  }
 ],
 "metadata": {
  "kernelspec": {
   "display_name": "Python 3",
   "language": "python",
   "name": "python3"
  },
  "language_info": {
   "codemirror_mode": {
    "name": "ipython",
    "version": 3
   },
   "file_extension": ".py",
   "mimetype": "text/x-python",
   "name": "python",
   "nbconvert_exporter": "python",
   "pygments_lexer": "ipython3",
   "version": "3.13.3"
  }
 },
 "nbformat": 4,
 "nbformat_minor": 5
}
