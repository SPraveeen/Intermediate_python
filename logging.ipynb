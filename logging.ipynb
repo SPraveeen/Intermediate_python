{
 "cells": [
  {
   "cell_type": "code",
   "execution_count": null,
   "id": "b42d33a1",
   "metadata": {},
   "outputs": [
    {
     "name": "stderr",
     "output_type": "stream",
     "text": [
      "WARNING:root:This is a warning message\n",
      "ERROR:root:This is an error message\n",
      "CRITICAL:root:This is a critical message\n"
     ]
    }
   ],
   "source": [
    "import logging\n",
    "logging.debug('This is a debug message')\n",
    "logging.info('this is an info message')\n",
    "logging.warning(\"This is a warning message\")\n",
    "logging.error(\"This is an error message\")\n",
    "logging.critical(\"This is a critical message\")"
   ]
  },
  {
   "cell_type": "markdown",
   "id": "058dc627",
   "metadata": {},
   "source": [
    "<a href=\"https://docs.python.org/3/library/logging.html\">Reference</a>"
   ]
  },
  {
   "cell_type": "code",
   "execution_count": 1,
   "id": "65e7293b",
   "metadata": {},
   "outputs": [
    {
     "name": "stderr",
     "output_type": "stream",
     "text": [
      "08/12/2025 20:36:16-root-DEBUG-This is a debug message\n",
      "08/12/2025 20:36:16-root-INFO-this is an info message\n",
      "08/12/2025 20:36:16-root-WARNING-This is a warning message\n",
      "08/12/2025 20:36:16-root-ERROR-This is an error message\n",
      "08/12/2025 20:36:16-root-CRITICAL-This is a critical message\n"
     ]
    }
   ],
   "source": [
    "import logging\n",
    "logging.basicConfig(level=logging.DEBUG,format='%(asctime)s-%(name)s-%(levelname)s-%(message)s',datefmt='%m/%d/%Y %H:%M:%S')\n",
    "logging.debug('This is a debug message')\n",
    "logging.info('this is an info message')\n",
    "logging.warning(\"This is a warning message\")\n",
    "logging.error(\"This is an error message\")\n",
    "logging.critical(\"This is a critical message\")"
   ]
  },
  {
   "cell_type": "code",
   "execution_count": 2,
   "id": "0fc3d414",
   "metadata": {},
   "outputs": [
    {
     "name": "stderr",
     "output_type": "stream",
     "text": [
      "08/12/2025 20:41:41-__main__-INFO-hello from helper\n"
     ]
    }
   ],
   "source": [
    "# in other module create this file as 'helper.py'\n",
    "import logging\n",
    "logger=logging.getLogger(__name__)\n",
    "logger.info('hello from helper')"
   ]
  },
  {
   "cell_type": "code",
   "execution_count": 3,
   "id": "5a688b01",
   "metadata": {},
   "outputs": [],
   "source": [
    "# call in other module like\n",
    "# import helper"
   ]
  },
  {
   "cell_type": "code",
   "execution_count": null,
   "id": "22c1415a",
   "metadata": {},
   "outputs": [],
   "source": []
  }
 ],
 "metadata": {
  "kernelspec": {
   "display_name": "Python 3",
   "language": "python",
   "name": "python3"
  },
  "language_info": {
   "codemirror_mode": {
    "name": "ipython",
    "version": 3
   },
   "file_extension": ".py",
   "mimetype": "text/x-python",
   "name": "python",
   "nbconvert_exporter": "python",
   "pygments_lexer": "ipython3",
   "version": "3.13.3"
  }
 },
 "nbformat": 4,
 "nbformat_minor": 5
}
