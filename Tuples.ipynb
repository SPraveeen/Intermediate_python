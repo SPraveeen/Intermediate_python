{
 "cells": [
  {
   "cell_type": "code",
   "execution_count": 1,
   "id": "611f30aa",
   "metadata": {},
   "outputs": [
    {
     "name": "stdout",
     "output_type": "stream",
     "text": [
      "<class 'tuple'>\n"
     ]
    }
   ],
   "source": [
    "mytuple=(\"a\",\"b\")\n",
    "print(type(mytuple))"
   ]
  },
  {
   "cell_type": "code",
   "execution_count": 6,
   "id": "c1dbc314",
   "metadata": {},
   "outputs": [
    {
     "name": "stdout",
     "output_type": "stream",
     "text": [
      "('max', 20, True)\n",
      "<class 'tuple'>\n",
      "20\n"
     ]
    }
   ],
   "source": [
    "mytup=tuple([\"max\",20,True])\n",
    "print(mytup)\n",
    "print(type(mytup))\n",
    "print(mytup[1])"
   ]
  },
  {
   "cell_type": "markdown",
   "id": "b91d52eb",
   "metadata": {},
   "source": [
    "- tuple is immutable"
   ]
  },
  {
   "cell_type": "code",
   "execution_count": 7,
   "id": "922ab97c",
   "metadata": {},
   "outputs": [
    {
     "ename": "TypeError",
     "evalue": "'tuple' object does not support item assignment",
     "output_type": "error",
     "traceback": [
      "\u001b[31m---------------------------------------------------------------------------\u001b[39m",
      "\u001b[31mTypeError\u001b[39m                                 Traceback (most recent call last)",
      "\u001b[36mCell\u001b[39m\u001b[36m \u001b[39m\u001b[32mIn[7]\u001b[39m\u001b[32m, line 1\u001b[39m\n\u001b[32m----> \u001b[39m\u001b[32m1\u001b[39m \u001b[43mmytup\u001b[49m\u001b[43m[\u001b[49m\u001b[32;43m0\u001b[39;49m\u001b[43m]\u001b[49m=\u001b[32m20\u001b[39m\n\u001b[32m      2\u001b[39m mytup\n",
      "\u001b[31mTypeError\u001b[39m: 'tuple' object does not support item assignment"
     ]
    }
   ],
   "source": [
    "mytup[0]=20\n",
    "mytup"
   ]
  },
  {
   "cell_type": "code",
   "execution_count": 8,
   "id": "95f5b7b7",
   "metadata": {},
   "outputs": [
    {
     "name": "stdout",
     "output_type": "stream",
     "text": [
      "max\n",
      "20\n",
      "True\n"
     ]
    }
   ],
   "source": [
    "for i in mytup:\n",
    "    print(i)"
   ]
  },
  {
   "cell_type": "code",
   "execution_count": 9,
   "id": "60457d79",
   "metadata": {},
   "outputs": [
    {
     "name": "stdout",
     "output_type": "stream",
     "text": [
      "Yes\n"
     ]
    }
   ],
   "source": [
    "if \"max\" in mytup:\n",
    "    print(\"Yes\")\n",
    "else:\n",
    "    print(\"No\")"
   ]
  },
  {
   "cell_type": "code",
   "execution_count": 10,
   "id": "398b7021",
   "metadata": {},
   "outputs": [
    {
     "name": "stdout",
     "output_type": "stream",
     "text": [
      "5\n"
     ]
    }
   ],
   "source": [
    "my_tup=('a','b','c','d','e')\n",
    "print(len(my_tup))"
   ]
  },
  {
   "cell_type": "code",
   "execution_count": 11,
   "id": "6f9267e2",
   "metadata": {},
   "outputs": [
    {
     "name": "stdout",
     "output_type": "stream",
     "text": [
      "1\n"
     ]
    }
   ],
   "source": [
    "print(my_tup.count('b'))"
   ]
  },
  {
   "cell_type": "code",
   "execution_count": 12,
   "id": "98c2e1b4",
   "metadata": {},
   "outputs": [
    {
     "name": "stdout",
     "output_type": "stream",
     "text": [
      "2\n"
     ]
    }
   ],
   "source": [
    "print(my_tup.index('c'))"
   ]
  },
  {
   "cell_type": "code",
   "execution_count": 14,
   "id": "acd944ee",
   "metadata": {},
   "outputs": [
    {
     "name": "stdout",
     "output_type": "stream",
     "text": [
      "['a', 'b', 'c', 'd', 'e']\n",
      "<class 'list'>\n",
      "('a', 'b', 'c', 'd', 'e')\n",
      "<class 'tuple'>\n"
     ]
    }
   ],
   "source": [
    "new=list(my_tup)\n",
    "print(new)\n",
    "print(type(new))\n",
    "\n",
    "old=tuple(new)\n",
    "print(old)\n",
    "print(type(old))"
   ]
  },
  {
   "cell_type": "markdown",
   "id": "78e8a587",
   "metadata": {},
   "source": [
    "- slicing"
   ]
  },
  {
   "cell_type": "code",
   "execution_count": 15,
   "id": "eedacfd5",
   "metadata": {},
   "outputs": [
    {
     "data": {
      "text/plain": [
       "(13, 14, 15)"
      ]
     },
     "execution_count": 15,
     "metadata": {},
     "output_type": "execute_result"
    }
   ],
   "source": [
    "a=(11,12,13,14,15,16,17,18,19,20)\n",
    "a[2:5]"
   ]
  },
  {
   "cell_type": "code",
   "execution_count": 16,
   "id": "5b91f3cd",
   "metadata": {},
   "outputs": [
    {
     "data": {
      "text/plain": [
       "(11, 12, 13, 14, 15, 16)"
      ]
     },
     "execution_count": 16,
     "metadata": {},
     "output_type": "execute_result"
    }
   ],
   "source": [
    "a[:6]"
   ]
  },
  {
   "cell_type": "code",
   "execution_count": 17,
   "id": "c9290feb",
   "metadata": {},
   "outputs": [
    {
     "data": {
      "text/plain": [
       "(12, 13, 14, 15, 16, 17, 18, 19, 20)"
      ]
     },
     "execution_count": 17,
     "metadata": {},
     "output_type": "execute_result"
    }
   ],
   "source": [
    "a[1:]"
   ]
  },
  {
   "cell_type": "code",
   "execution_count": 20,
   "id": "6f605f1b",
   "metadata": {},
   "outputs": [
    {
     "data": {
      "text/plain": [
       "(11, 13, 15, 17, 19)"
      ]
     },
     "execution_count": 20,
     "metadata": {},
     "output_type": "execute_result"
    }
   ],
   "source": [
    "a[::2]"
   ]
  },
  {
   "cell_type": "code",
   "execution_count": 21,
   "id": "e1c31498",
   "metadata": {},
   "outputs": [
    {
     "data": {
      "text/plain": [
       "(20, 19, 18, 17, 16, 15, 14, 13, 12, 11)"
      ]
     },
     "execution_count": 21,
     "metadata": {},
     "output_type": "execute_result"
    }
   ],
   "source": [
    "a[::-1]"
   ]
  },
  {
   "cell_type": "code",
   "execution_count": 24,
   "id": "02fa04c4",
   "metadata": {},
   "outputs": [
    {
     "name": "stdout",
     "output_type": "stream",
     "text": [
      "28\n",
      "max\n",
      "Boston\n"
     ]
    }
   ],
   "source": [
    "newt=(\"max\",28,\"Boston\")\n",
    "name,age,city=newt\n",
    "print(age)\n",
    "print(name)\n",
    "print(city)"
   ]
  },
  {
   "cell_type": "code",
   "execution_count": 26,
   "id": "d7985522",
   "metadata": {},
   "outputs": [
    {
     "name": "stdout",
     "output_type": "stream",
     "text": [
      "0\n",
      "3\n",
      "[1, 2]\n",
      "4\n"
     ]
    }
   ],
   "source": [
    "net=(0,1,2,3,4)\n",
    "i1, *i2, i3,i4=net\n",
    "print(i1)\n",
    "print(i3)\n",
    "print(i2)\n",
    "print(i4)"
   ]
  },
  {
   "cell_type": "code",
   "execution_count": 27,
   "id": "a2bc7419",
   "metadata": {},
   "outputs": [
    {
     "name": "stdout",
     "output_type": "stream",
     "text": [
      "0\n",
      "4\n",
      "[1, 2, 3]\n"
     ]
    }
   ],
   "source": [
    "net=(0,1,2,3,4)\n",
    "i1, *i2, i3=net\n",
    "print(i1)\n",
    "print(i3)\n",
    "print(i2)"
   ]
  },
  {
   "cell_type": "code",
   "execution_count": 28,
   "id": "7c1f60ed",
   "metadata": {},
   "outputs": [
    {
     "name": "stdout",
     "output_type": "stream",
     "text": [
      "104 bytes\n",
      "80 bytes\n"
     ]
    }
   ],
   "source": [
    "import sys\n",
    "my_list=[0,1,2,'hello',True]\n",
    "my_tuple=(0,1,2,'hello',True)\n",
    "print(sys.getsizeof(my_list),\"bytes\")\n",
    "print(sys.getsizeof(my_tuple),\"bytes\")"
   ]
  },
  {
   "cell_type": "code",
   "execution_count": 30,
   "id": "57c95cd6",
   "metadata": {},
   "outputs": [
    {
     "name": "stdout",
     "output_type": "stream",
     "text": [
      "0.11548270005732775\n",
      "0.01317739998921752\n"
     ]
    }
   ],
   "source": [
    "import timeit\n",
    "print(timeit.timeit(stmt='[0,1,2,3,4]',number=1000000))\n",
    "print(timeit.timeit(stmt='(0,1,2,3,4)',number=1000000))"
   ]
  }
 ],
 "metadata": {
  "kernelspec": {
   "display_name": "Python 3",
   "language": "python",
   "name": "python3"
  },
  "language_info": {
   "codemirror_mode": {
    "name": "ipython",
    "version": 3
   },
   "file_extension": ".py",
   "mimetype": "text/x-python",
   "name": "python",
   "nbconvert_exporter": "python",
   "pygments_lexer": "ipython3",
   "version": "3.13.3"
  }
 },
 "nbformat": 4,
 "nbformat_minor": 5
}
