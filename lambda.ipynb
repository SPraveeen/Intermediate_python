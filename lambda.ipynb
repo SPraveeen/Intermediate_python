{
 "cells": [
  {
   "cell_type": "markdown",
   "id": "3dfe62d4",
   "metadata": {},
   "source": [
    "- lambda arguments : expressions\n",
    "- map(func,seq)\n",
    "- filter(funnc,seq)\n",
    "- reduce(func,seq)"
   ]
  },
  {
   "cell_type": "code",
   "execution_count": 2,
   "id": "09dad4c7",
   "metadata": {},
   "outputs": [
    {
     "name": "stdout",
     "output_type": "stream",
     "text": [
      "15\n"
     ]
    }
   ],
   "source": [
    "def add10_func(x):\n",
    "    return x+10\n",
    "\n",
    "a= add10_func(5)\n",
    "print(a)"
   ]
  },
  {
   "cell_type": "code",
   "execution_count": 1,
   "id": "c794c549",
   "metadata": {},
   "outputs": [
    {
     "name": "stdout",
     "output_type": "stream",
     "text": [
      "15\n"
     ]
    }
   ],
   "source": [
    "add10=lambda x:x+10\n",
    "print(add10(5))"
   ]
  },
  {
   "cell_type": "code",
   "execution_count": 3,
   "id": "71743c83",
   "metadata": {},
   "outputs": [
    {
     "name": "stdout",
     "output_type": "stream",
     "text": [
      "20\n"
     ]
    }
   ],
   "source": [
    "mul=lambda x,y:x*y\n",
    "print(mul(10,2))"
   ]
  },
  {
   "cell_type": "markdown",
   "id": "22fe91cc",
   "metadata": {},
   "source": [
    "- list sort defauly by x axis"
   ]
  },
  {
   "cell_type": "code",
   "execution_count": 4,
   "id": "e279f831",
   "metadata": {},
   "outputs": [
    {
     "name": "stdout",
     "output_type": "stream",
     "text": [
      "[(1, 2), (15, 1), (5, -1), (10, 4)]\n",
      "[(1, 2), (5, -1), (10, 4), (15, 1)]\n"
     ]
    }
   ],
   "source": [
    "points2D=[(1,2),(15,1),(5,-1),(10,4)]\n",
    "points2D_sorted=sorted(points2D)\n",
    "print(points2D)\n",
    "print(points2D_sorted)"
   ]
  },
  {
   "cell_type": "markdown",
   "id": "23933073",
   "metadata": {},
   "source": [
    "- list sort change to y axis"
   ]
  },
  {
   "cell_type": "code",
   "execution_count": 5,
   "id": "766463c4",
   "metadata": {},
   "outputs": [
    {
     "name": "stdout",
     "output_type": "stream",
     "text": [
      "[(1, 2), (15, 1), (5, -1), (10, 4)]\n",
      "[(5, -1), (15, 1), (1, 2), (10, 4)]\n"
     ]
    }
   ],
   "source": [
    "points2D=[(1,2),(15,1),(5,-1),(10,4)]\n",
    "points2D_sorted=sorted(points2D,key=lambda x:x[1])\n",
    "print(points2D)\n",
    "print(points2D_sorted)"
   ]
  },
  {
   "cell_type": "code",
   "execution_count": 6,
   "id": "ded62332",
   "metadata": {},
   "outputs": [
    {
     "name": "stdout",
     "output_type": "stream",
     "text": [
      "[(5, -1), (15, 1), (1, 2), (10, 4)]\n"
     ]
    }
   ],
   "source": [
    "points2D=[(1,2),(15,1),(5,-1),(10,4)]\n",
    "\n",
    "def sort_by_y(x):\n",
    "    return x[1]\n",
    "\n",
    "points2D_sorted=sorted(points2D,key=sort_by_y)\n",
    "print(points2D_sorted)"
   ]
  },
  {
   "cell_type": "markdown",
   "id": "993b3211",
   "metadata": {},
   "source": [
    "- sort by sum of each"
   ]
  },
  {
   "cell_type": "code",
   "execution_count": 7,
   "id": "4e723413",
   "metadata": {},
   "outputs": [
    {
     "name": "stdout",
     "output_type": "stream",
     "text": [
      "[(1, 2), (5, -1), (10, 4), (15, 1)]\n"
     ]
    }
   ],
   "source": [
    "points2D_sorted=sorted(points2D,key=lambda x:x[0]+x[1])\n",
    "print(points2D_sorted)"
   ]
  },
  {
   "cell_type": "markdown",
   "id": "76278c13",
   "metadata": {},
   "source": [
    "- map(func,seq)"
   ]
  },
  {
   "cell_type": "code",
   "execution_count": 9,
   "id": "3360d4eb",
   "metadata": {},
   "outputs": [
    {
     "name": "stdout",
     "output_type": "stream",
     "text": [
      "<map object at 0x000001BCACC6C970>\n",
      "[2, 4, 6, 8, 10]\n",
      "[2, 4, 6, 8, 10]\n"
     ]
    }
   ],
   "source": [
    "a=[1,2,3,4,5]\n",
    "b=map(lambda x:x*2,a)\n",
    "print(b)\n",
    "print(list(b))\n",
    "c=[x*2 for x in a]\n",
    "print(c)"
   ]
  },
  {
   "cell_type": "markdown",
   "id": "4b56a499",
   "metadata": {},
   "source": [
    "- filter(funnc,seq)"
   ]
  },
  {
   "cell_type": "code",
   "execution_count": 11,
   "id": "7bb3e219",
   "metadata": {},
   "outputs": [
    {
     "name": "stdout",
     "output_type": "stream",
     "text": [
      "[2, 4, 6]\n"
     ]
    }
   ],
   "source": [
    "a=[1,2,3,4,5,6]\n",
    "b=filter(lambda x:x%2==0,a)\n",
    "print(list(b))"
   ]
  },
  {
   "cell_type": "markdown",
   "id": "d752aa9a",
   "metadata": {},
   "source": [
    "- by list comprehension"
   ]
  },
  {
   "cell_type": "code",
   "execution_count": 12,
   "id": "305e2d6c",
   "metadata": {},
   "outputs": [
    {
     "name": "stdout",
     "output_type": "stream",
     "text": [
      "[2, 4, 6]\n"
     ]
    }
   ],
   "source": [
    "c=[x for x in a if x%2==0]\n",
    "print(c)"
   ]
  },
  {
   "cell_type": "markdown",
   "id": "4fad64bb",
   "metadata": {},
   "source": [
    "- reduce(func,seq)"
   ]
  },
  {
   "cell_type": "code",
   "execution_count": 14,
   "id": "91cbad05",
   "metadata": {},
   "outputs": [
    {
     "name": "stdout",
     "output_type": "stream",
     "text": [
      "24\n"
     ]
    }
   ],
   "source": [
    "from functools import reduce\n",
    "\n",
    "a=[1,2,3,4]\n",
    "b=reduce(lambda x,y:x*y,a)\n",
    "print(b)"
   ]
  },
  {
   "cell_type": "code",
   "execution_count": null,
   "id": "8c8a3246",
   "metadata": {},
   "outputs": [],
   "source": []
  }
 ],
 "metadata": {
  "kernelspec": {
   "display_name": "Python 3",
   "language": "python",
   "name": "python3"
  },
  "language_info": {
   "codemirror_mode": {
    "name": "ipython",
    "version": 3
   },
   "file_extension": ".py",
   "mimetype": "text/x-python",
   "name": "python",
   "nbconvert_exporter": "python",
   "pygments_lexer": "ipython3",
   "version": "3.13.3"
  }
 },
 "nbformat": 4,
 "nbformat_minor": 5
}
