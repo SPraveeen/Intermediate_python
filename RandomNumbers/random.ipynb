{
 "cells": [
  {
   "cell_type": "code",
   "execution_count": 2,
   "id": "4f95e228",
   "metadata": {},
   "outputs": [
    {
     "name": "stdout",
     "output_type": "stream",
     "text": [
      "0.03419564793026897\n"
     ]
    }
   ],
   "source": [
    "import random\n",
    "a=random.random()\n",
    "print(a)"
   ]
  },
  {
   "cell_type": "markdown",
   "id": "5b83a6ba",
   "metadata": {},
   "source": [
    "- include upperbond"
   ]
  },
  {
   "cell_type": "code",
   "execution_count": 3,
   "id": "0ba4eb16",
   "metadata": {},
   "outputs": [
    {
     "name": "stdout",
     "output_type": "stream",
     "text": [
      "2\n"
     ]
    }
   ],
   "source": [
    "b=random.randint(1,10)\n",
    "print(b)"
   ]
  },
  {
   "cell_type": "code",
   "execution_count": 4,
   "id": "4003149a",
   "metadata": {},
   "outputs": [
    {
     "name": "stdout",
     "output_type": "stream",
     "text": [
      "1.757862150966258\n"
     ]
    }
   ],
   "source": [
    "c=random.uniform(1,10)\n",
    "print(c)"
   ]
  },
  {
   "cell_type": "markdown",
   "id": "c26237b0",
   "metadata": {},
   "source": [
    "- exclude upperbond"
   ]
  },
  {
   "cell_type": "code",
   "execution_count": 5,
   "id": "eb2718db",
   "metadata": {},
   "outputs": [
    {
     "name": "stdout",
     "output_type": "stream",
     "text": [
      "9\n"
     ]
    }
   ],
   "source": [
    "a=random.randrange(1,10)\n",
    "print(a)"
   ]
  },
  {
   "cell_type": "markdown",
   "id": "49a825b2",
   "metadata": {},
   "source": [
    "- mean of 0 standard deviation of 1"
   ]
  },
  {
   "cell_type": "code",
   "execution_count": 7,
   "id": "9f1339a6",
   "metadata": {},
   "outputs": [
    {
     "name": "stdout",
     "output_type": "stream",
     "text": [
      "0.4472299675336621\n"
     ]
    }
   ],
   "source": [
    "a=random.normalvariate(0,1)\n",
    "print(a)"
   ]
  },
  {
   "cell_type": "markdown",
   "id": "6e805116",
   "metadata": {},
   "source": [
    "- to work with sequences"
   ]
  },
  {
   "cell_type": "code",
   "execution_count": 10,
   "id": "e88962c1",
   "metadata": {},
   "outputs": [
    {
     "name": "stdout",
     "output_type": "stream",
     "text": [
      "E\n"
     ]
    }
   ],
   "source": [
    "mylist=list(\"ABCDEF\")\n",
    "a=random.choice(mylist)\n",
    "print(a)"
   ]
  },
  {
   "cell_type": "code",
   "execution_count": 14,
   "id": "1513868f",
   "metadata": {},
   "outputs": [
    {
     "name": "stdout",
     "output_type": "stream",
     "text": [
      "['A', 'D']\n"
     ]
    }
   ],
   "source": [
    "a=random.sample(mylist,2)\n",
    "print(a)"
   ]
  },
  {
   "cell_type": "code",
   "execution_count": 17,
   "id": "ba2cce26",
   "metadata": {},
   "outputs": [
    {
     "name": "stdout",
     "output_type": "stream",
     "text": [
      "['B', 'B', 'E']\n"
     ]
    }
   ],
   "source": [
    "a=random.choices(mylist,k=3)\n",
    "print(a)"
   ]
  },
  {
   "cell_type": "code",
   "execution_count": 18,
   "id": "ad013d91",
   "metadata": {},
   "outputs": [
    {
     "name": "stdout",
     "output_type": "stream",
     "text": [
      "None\n"
     ]
    }
   ],
   "source": [
    "a=random.shuffle(mylist)\n",
    "print(a)"
   ]
  },
  {
   "cell_type": "code",
   "execution_count": 22,
   "id": "417bbbf6",
   "metadata": {},
   "outputs": [
    {
     "name": "stdout",
     "output_type": "stream",
     "text": [
      "0.13436424411240122\n",
      "2\n",
      "0.13436424411240122\n",
      "2\n",
      "0.9560342718892494\n",
      "1\n"
     ]
    }
   ],
   "source": [
    "import random\n",
    "random.seed(1)\n",
    "print(random.random())\n",
    "print(random.randint(1,10))\n",
    "\n",
    "random.seed(1)\n",
    "print(random.random())\n",
    "print(random.randint(1,10))\n",
    "\n",
    "random.seed(2)\n",
    "print(random.random())\n",
    "print(random.randint(1,10))"
   ]
  },
  {
   "cell_type": "markdown",
   "id": "45cb18c7",
   "metadata": {},
   "source": [
    "- for security purposes use secrets"
   ]
  },
  {
   "cell_type": "code",
   "execution_count": 24,
   "id": "639b6df0",
   "metadata": {},
   "outputs": [
    {
     "name": "stdout",
     "output_type": "stream",
     "text": [
      "2\n"
     ]
    }
   ],
   "source": [
    "import secrets\n",
    "\n",
    "a=secrets.randbelow(10)\n",
    "print(a)"
   ]
  },
  {
   "cell_type": "code",
   "execution_count": 26,
   "id": "b37679a6",
   "metadata": {},
   "outputs": [
    {
     "name": "stdout",
     "output_type": "stream",
     "text": [
      "3\n"
     ]
    }
   ],
   "source": [
    "b=secrets.randbits(4)\n",
    "print(b)"
   ]
  },
  {
   "cell_type": "code",
   "execution_count": 27,
   "id": "a99ff114",
   "metadata": {},
   "outputs": [
    {
     "name": "stdout",
     "output_type": "stream",
     "text": [
      "E\n"
     ]
    }
   ],
   "source": [
    "mylist=list(\"ABCDEFG\")\n",
    "a=secrets.choice(mylist)\n",
    "print(a)"
   ]
  },
  {
   "cell_type": "code",
   "execution_count": null,
   "id": "4b6d51e8",
   "metadata": {},
   "outputs": [
    {
     "name": "stdout",
     "output_type": "stream",
     "text": [
      "Requirement already satisfied: numpy in c:\\users\\prave\\appdata\\local\\programs\\python\\python313\\lib\\site-packages (2.2.6)\n",
      "Note: you may need to restart the kernel to use updated packages.\n"
     ]
    },
    {
     "name": "stderr",
     "output_type": "stream",
     "text": [
      "\n",
      "[notice] A new release of pip is available: 25.0.1 -> 25.2\n",
      "[notice] To update, run: python.exe -m pip install --upgrade pip\n"
     ]
    }
   ],
   "source": [
    "pip install numpy"
   ]
  },
  {
   "cell_type": "code",
   "execution_count": 33,
   "id": "9ab9806d",
   "metadata": {},
   "outputs": [
    {
     "name": "stdout",
     "output_type": "stream",
     "text": [
      "[0.39577791 0.03783411 0.50966223]\n",
      "[[0.92314193 0.19288021 0.95221067]\n",
      " [0.14660205 0.69713728 0.64554849]\n",
      " [0.15605274 0.01736401 0.76982545]]\n"
     ]
    }
   ],
   "source": [
    "import numpy as np\n",
    "\n",
    "a=np.random.rand(3)\n",
    "\n",
    "b=np.random.rand(3,3)\n",
    "print(a)\n",
    "print(b)"
   ]
  },
  {
   "cell_type": "code",
   "execution_count": 34,
   "id": "3833897a",
   "metadata": {},
   "outputs": [
    {
     "name": "stdout",
     "output_type": "stream",
     "text": [
      "[[7 1 1 7]\n",
      " [8 7 7 2]\n",
      " [4 3 9 0]]\n"
     ]
    }
   ],
   "source": [
    "c=np.random.randint(0,10,(3,4))\n",
    "print(c)"
   ]
  },
  {
   "cell_type": "code",
   "execution_count": 36,
   "id": "e3db147f",
   "metadata": {},
   "outputs": [
    {
     "name": "stdout",
     "output_type": "stream",
     "text": [
      "[[1 2 3]\n",
      " [4 5 6]\n",
      " [7 8 9]]\n"
     ]
    }
   ],
   "source": [
    "arr=np.array([[1,2,3],[4,5,6],[7,8,9]])\n",
    "print(arr)"
   ]
  },
  {
   "cell_type": "code",
   "execution_count": 41,
   "id": "b93e8e18",
   "metadata": {},
   "outputs": [],
   "source": [
    "np.random.shuffle(arr)"
   ]
  },
  {
   "cell_type": "code",
   "execution_count": null,
   "id": "436ec2cb",
   "metadata": {},
   "outputs": [],
   "source": []
  }
 ],
 "metadata": {
  "kernelspec": {
   "display_name": "Python 3",
   "language": "python",
   "name": "python3"
  },
  "language_info": {
   "codemirror_mode": {
    "name": "ipython",
    "version": 3
   },
   "file_extension": ".py",
   "mimetype": "text/x-python",
   "name": "python",
   "nbconvert_exporter": "python",
   "pygments_lexer": "ipython3",
   "version": "3.13.3"
  }
 },
 "nbformat": 4,
 "nbformat_minor": 5
}
